{
  "nbformat": 4,
  "nbformat_minor": 0,
  "metadata": {
    "colab": {
      "name": "Synchronous Machine Prediction Using  Regression.ipynb",
      "provenance": [],
      "collapsed_sections": [],
      "authorship_tag": "ABX9TyN7EedeWixtIMe1EP4u2y60",
      "include_colab_link": true
    },
    "kernelspec": {
      "name": "python3",
      "display_name": "Python 3"
    },
    "language_info": {
      "name": "python"
    }
  },
  "cells": [
    {
      "cell_type": "markdown",
      "metadata": {
        "id": "view-in-github",
        "colab_type": "text"
      },
      "source": [
        "<a href=\"https://colab.research.google.com/github/Brafamous/New/blob/main/Synchronous_Machine_Prediction_Using_Regression.ipynb\" target=\"_parent\"><img src=\"https://colab.research.google.com/assets/colab-badge.svg\" alt=\"Open In Colab\"/></a>"
      ]
    },
    {
      "cell_type": "markdown",
      "source": [
        "Polynomial Regression"
      ],
      "metadata": {
        "id": "diBqSWZrOQTg"
      }
    },
    {
      "cell_type": "code",
      "execution_count": 30,
      "metadata": {
        "colab": {
          "base_uri": "https://localhost:8080/"
        },
        "id": "N1joqTEQt940",
        "outputId": "ec478976-ae33-4bbf-d208-8bb16a86a50e"
      },
      "outputs": [
        {
          "output_type": "stream",
          "name": "stdout",
          "text": [
            "[[434.16 431.23]\n",
            " [457.96 460.01]\n",
            " [460.65 461.14]\n",
            " ...\n",
            " [435.23 426.86]\n",
            " [436.56 433.4 ]\n",
            " [438.67 441.94]]\n"
          ]
        }
      ],
      "source": [
        "import numpy as np\n",
        "import pandas as pd\n",
        "import matplotlib.pyplot as plt\n",
        "\n",
        "data = pd.read_csv('Synchronous  Machines.csv')\n",
        "X = data.iloc[:,:-1].values\n",
        "y = data.iloc[:,-1].values\n",
        "\n",
        "## Splitting the data set\n",
        "from sklearn.model_selection import train_test_split\n",
        "X_train, X_test, y_train, y_test = train_test_split(X,y, test_size = 0.3, random_state =0)\n",
        "\n",
        "# The Polynomial Regression Model\n",
        "from sklearn.preprocessing import PolynomialFeatures\n",
        "poly_reg = PolynomialFeatures(degree = 4)\n",
        "X_poly = poly_reg.fit_transform(X_train)\n",
        "from sklearn.linear_model import LinearRegression\n",
        "regressor = LinearRegression()\n",
        "regressor.fit(X_poly, y_train)\n",
        "\n",
        "# Predicting the Result\n",
        "y_pred = regressor.predict(poly_reg.transform(X_test))\n",
        "np.set_printoptions(precision =2)\n",
        "print(np.concatenate((y_pred.reshape(len(y_pred), 1), y_test.reshape(len(y_test),1)),1))\n",
        "\n",
        "\n",
        "# Evaluating the Model Performance\n",
        "from sklearn.metrics import r2_score\n",
        "performance1=r2_score(y_test, y_pred)"
      ]
    },
    {
      "cell_type": "markdown",
      "source": [
        "Decsion Tree Regression"
      ],
      "metadata": {
        "id": "j8Icn7-YOZta"
      }
    },
    {
      "cell_type": "code",
      "source": [
        "import numpy as np\n",
        "import pandas as pd\n",
        "import matplotlib.pyplot as plt\n",
        "\n",
        "#Importing the dataset\n",
        "data = pd.read_csv('Synchronous  Machines.csv')\n",
        "X = data.iloc[:,:-1].values\n",
        "y = data.iloc[:,-1].values\n",
        "\n",
        "#Splitting the Data set\n",
        "from sklearn.model_selection import train_test_split\n",
        "X_train, X_test, y_train, y_test = train_test_split(X,y, test_size = 0.3, random_state =0)\n",
        "\n",
        "#Decision Tree model\n",
        "from sklearn.tree import DecisionTreeRegressor\n",
        "regressor = DecisionTreeRegressor(random_state=0)\n",
        "regressor.fit(X_train,y_train)\n",
        "\n",
        "#Predicting the Test Results\n",
        "y_pred = regressor.predict(X_test)\n",
        "np.set_printoptions(precision =2)\n",
        "print(np.concatenate((y_pred.reshape(len(y_pred), 1), y_test.reshape(len(y_test),1)),1))\n",
        "\n",
        "# Evaluating the Model Performance\n",
        "from sklearn.metrics import r2_score\n",
        "performance2=r2_score(y_test, y_pred)"
      ],
      "metadata": {
        "colab": {
          "base_uri": "https://localhost:8080/"
        },
        "id": "FLDqQcRMOiDD",
        "outputId": "631d35ae-314b-4ebe-a0ea-218ba02b2042"
      },
      "execution_count": 31,
      "outputs": [
        {
          "output_type": "stream",
          "name": "stdout",
          "text": [
            "[[432.98 431.23]\n",
            " [462.81 460.01]\n",
            " [460.06 461.14]\n",
            " ...\n",
            " [428.72 426.86]\n",
            " [435.9  433.4 ]\n",
            " [443.54 441.94]]\n"
          ]
        }
      ]
    },
    {
      "cell_type": "markdown",
      "source": [
        "Random Forest Regression"
      ],
      "metadata": {
        "id": "NL6BqdN5VmpQ"
      }
    },
    {
      "cell_type": "code",
      "source": [
        "import numpy as np\n",
        "import pandas as pd\n",
        "import matplotlib.pyplot as plt\n",
        "\n",
        "#Importing the #Importing the dataset\n",
        "data = pd.read_csv('Synchronous  Machines.csv')\n",
        "X = data.iloc[:,:-1].values\n",
        "y = data.iloc[:,-1].values\n",
        "\n",
        "#Splitting the data set\n",
        "from sklearn.model_selection import train_test_split\n",
        "X_train, X_test, y_train, y_test = train_test_split(X,y, test_size=0.3, random_state=0)\n",
        "\n",
        "#Random Forest Model\n",
        "from sklearn.ensemble import RandomForestRegressor\n",
        "regressor = RandomForestRegressor(n_estimators =20, random_state=0)\n",
        "regressor.fit(X_train,y_train)\n",
        "\n",
        "#Prediction\n",
        "y_pred = regressor.predict(X_test)\n",
        "\n",
        "np.set_printoptions(precision =2)\n",
        "print(np.concatenate((y_pred.reshape(len(y_pred), 1), y_test.reshape(len(y_test),1)),1))\n",
        "\n",
        "# Evaluating the Model Performance\n",
        "from sklearn.metrics import r2_score\n",
        "performance3=r2_score(y_test, y_pred)\n"
      ],
      "metadata": {
        "colab": {
          "base_uri": "https://localhost:8080/"
        },
        "id": "6gL_I5e4VyeW",
        "outputId": "1f3427b0-621c-4d9b-d1d3-597590d260cd"
      },
      "execution_count": 32,
      "outputs": [
        {
          "output_type": "stream",
          "name": "stdout",
          "text": [
            "[[434.16 431.23]\n",
            " [457.67 460.01]\n",
            " [463.44 461.14]\n",
            " ...\n",
            " [431.92 426.86]\n",
            " [436.07 433.4 ]\n",
            " [440.98 441.94]]\n"
          ]
        }
      ]
    },
    {
      "cell_type": "code",
      "source": [
        "performance = [performance1, performance2, performance3]\n",
        "max_performance = max(performance)\n",
        "print('The best module has a performance of', max_performance)\n"
      ],
      "metadata": {
        "colab": {
          "base_uri": "https://localhost:8080/"
        },
        "id": "4bsxWb3xi4dQ",
        "outputId": "5736bb4e-a299-4f07-a338-113bb97b24f7"
      },
      "execution_count": 38,
      "outputs": [
        {
          "output_type": "stream",
          "name": "stdout",
          "text": [
            "The best module has a performance of 0.9598466027827742\n",
            "0.9598466027827742\n"
          ]
        }
      ]
    }
  ]
}